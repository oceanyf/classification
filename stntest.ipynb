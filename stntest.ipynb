{
 "cells": [
  {
   "cell_type": "code",
   "execution_count": 1,
   "metadata": {
    "collapsed": false
   },
   "outputs": [
    {
     "name": "stderr",
     "output_type": "stream",
     "text": [
      "Using Theano backend.\n",
      "Using gpu device 0: GeForce GT 750M (CNMeM is disabled, cuDNN not available)\n"
     ]
    }
   ],
   "source": [
    "from __future__ import print_function\n",
    "import numpy as np\n",
    "np.random.seed(1337)  # for reproducibility\n",
    "from keras.engine import InputSpec\n",
    "from keras.models import Sequential,Model\n",
    "from keras.layers import Dense, Dropout, Activation, Flatten,Merge,  Input,Layer,merge\n",
    "from keras.layers import Convolution2D, MaxPooling2D\n",
    "from keras.preprocessing.image import ImageDataGenerator\n",
    "import matplotlib.pyplot as plt\n",
    "from attention import SpatialTransformer\n",
    "#from attention import SpatialTransformerLayer"
   ]
  },
  {
   "cell_type": "code",
   "execution_count": 2,
   "metadata": {
    "collapsed": true
   },
   "outputs": [],
   "source": [
    "batch_size = 8\n",
    "nb_classes = 9\n",
    "#image_size=(218,303)\n",
    "#input_shape=(3,218,303)\n",
    "\n",
    "#image_shape = (None, 128, 128, 1)\n",
    "#images = Input(shape=image_shape[1:])\n",
    "\n",
    "image_size=(128,128)\n",
    "input_shape=(3,128,128)\n",
    "classes=[\"chicken\",\"ostrich\",'bluebird','finch','frog','salemander','cobra','bird','flamingo']"
   ]
  },
  {
   "cell_type": "code",
   "execution_count": 3,
   "metadata": {
    "collapsed": false
   },
   "outputs": [
    {
     "name": "stdout",
     "output_type": "stream",
     "text": [
      "Found 10177 images belonging to 9 classes.\n",
      "Found 1328 images belonging to 9 classes.\n"
     ]
    }
   ],
   "source": [
    "train_datagen = ImageDataGenerator(rescale=1./255)\n",
    "train_generator = train_datagen.flow_from_directory(\n",
    "        '../data/train',\n",
    "        target_size=image_size,\n",
    "        batch_size=batch_size,\n",
    "        class_mode='categorical')\n",
    "test_datagen = ImageDataGenerator(rescale=1./255)\n",
    "test_generator = train_datagen.flow_from_directory(\n",
    "        '../data/val',\n",
    "        target_size=image_size,\n",
    "        batch_size=batch_size,\n",
    "        class_mode='categorical')"
   ]
  },
  {
   "cell_type": "code",
   "execution_count": 4,
   "metadata": {
    "collapsed": true
   },
   "outputs": [],
   "source": [
    "nb_epoch = 50\n",
    "nb_filters=32\n",
    "kernel_size=(3,3)\n",
    "pool_size=(2,2)"
   ]
  },
  {
   "cell_type": "code",
   "execution_count": 5,
   "metadata": {
    "collapsed": false
   },
   "outputs": [],
   "source": [
    "input_shape=(3,128,128)\n",
    "img = Input(shape=input_shape)\n",
    "\n",
    "# initial weights\n",
    "b = np.zeros((2, 3), dtype='float32')\n",
    "b[0, 0] = 1\n",
    "b[1, 1] = 1\n",
    "W = np.zeros((50, 6), dtype='float32')\n",
    "weights = [W, b.flatten()]\n",
    "\n",
    "modela = Sequential()\n",
    "modela.add(MaxPooling2D(pool_size=(2,2), input_shape=input_shape))\n",
    "modela.add(Convolution2D(nb_filters, kernel_size[0], kernel_size[1]))\n",
    "modela.add(Activation('relu'))\n",
    "modela.add(Convolution2D(nb_filters, kernel_size[0], kernel_size[1]))\n",
    "modela.add(Activation('relu'))\n",
    "modela.add(Flatten())\n",
    "modela.add(Dense(50))\n",
    "modela.add(Activation('relu'))\n",
    "modela.add(Dense(6,weights=weights))\n",
    "\n",
    "modelb = Sequential()\n",
    "modelb.add(SpatialTransformer(modela,input_shape=input_shape))\n",
    "modelb.add(Convolution2D(nb_filters, kernel_size[0], kernel_size[1]))\n",
    "modelb.add(Activation('relu'))\n",
    "modelb.add(Convolution2D(nb_filters, kernel_size[0], kernel_size[1]))\n",
    "modelb.add(Activation('relu'))\n",
    "modelb.add(Flatten())\n",
    "modelb.add(Dense(9))\n",
    "modelb.add(Activation('softmax'))\n",
    "\n",
    "model = Model(input=img, output=modelb(img))"
   ]
  },
  {
   "cell_type": "code",
   "execution_count": 6,
   "metadata": {
    "collapsed": false
   },
   "outputs": [
    {
     "name": "stdout",
     "output_type": "stream",
     "text": [
      "____________________________________________________________________________________________________\n",
      "Layer (type)                     Output Shape          Param #     Connected to                     \n",
      "====================================================================================================\n",
      "input_1 (InputLayer)             (None, 3, 128, 128)   0                                            \n",
      "____________________________________________________________________________________________________\n",
      "sequential_2 (Sequential)        (None, 9)             10208941    input_1[0][0]                    \n",
      "====================================================================================================\n",
      "Total params: 10208941\n",
      "____________________________________________________________________________________________________\n",
      "Epoch 1/50\n",
      "1000/1000 [==============================] - 46s - loss: 2.5910 - acc: 0.1130    \n",
      "Epoch 2/50\n",
      "1000/1000 [==============================] - 45s - loss: 2.1930 - acc: 0.1140    \n",
      "Epoch 3/50\n",
      "1000/1000 [==============================] - 46s - loss: 2.1919 - acc: 0.1310    \n",
      "Epoch 4/50\n",
      "1000/1000 [==============================] - 47s - loss: 2.2084 - acc: 0.1220    \n",
      "Epoch 5/50\n",
      "1000/1000 [==============================] - 48s - loss: 2.1916 - acc: 0.1330    \n",
      "Epoch 6/50\n",
      "1000/1000 [==============================] - 48s - loss: 2.1490 - acc: 0.1760    \n",
      "Epoch 7/50\n",
      "1000/1000 [==============================] - 49s - loss: 2.0293 - acc: 0.2470    \n",
      "Epoch 8/50\n",
      "1000/1000 [==============================] - 48s - loss: 1.8291 - acc: 0.3500    \n",
      "Epoch 9/50\n",
      "1000/1000 [==============================] - 49s - loss: 1.7293 - acc: 0.4100    \n",
      "Epoch 10/50\n",
      "1000/1000 [==============================] - 49s - loss: 1.7013 - acc: 0.4050    \n",
      "Epoch 11/50\n",
      "1001/1000 [==============================] - 51s - loss: 1.5371 - acc: 0.4755    \n",
      "Epoch 12/50\n",
      "1000/1000 [==============================] - 50s - loss: 1.5523 - acc: 0.4900    \n",
      "Epoch 13/50\n",
      "1000/1000 [==============================] - 78s - loss: 1.5248 - acc: 0.4790    \n",
      "Epoch 14/50\n",
      "1000/1000 [==============================] - 90s - loss: 1.8517 - acc: 0.3580    \n",
      "Epoch 15/50\n",
      "1000/1000 [==============================] - 89s - loss: 1.5258 - acc: 0.4860    \n",
      "Epoch 16/50\n",
      "1000/1000 [==============================] - 87s - loss: 1.4917 - acc: 0.5020    \n",
      "Epoch 17/50\n",
      "1000/1000 [==============================] - 87s - loss: 1.4381 - acc: 0.5350    \n",
      "Epoch 18/50\n",
      "1000/1000 [==============================] - 86s - loss: 1.4239 - acc: 0.5330    \n",
      "Epoch 19/50\n",
      "1000/1000 [==============================] - 83s - loss: 1.3627 - acc: 0.5500    \n",
      "Epoch 20/50\n",
      "1000/1000 [==============================] - 72s - loss: 1.4453 - acc: 0.5280    \n",
      "Epoch 21/50\n",
      "1001/1000 [==============================] - 47s - loss: 1.2779 - acc: 0.5674    \n",
      "Epoch 22/50\n",
      "1000/1000 [==============================] - 47s - loss: 1.1695 - acc: 0.6220    \n",
      "Epoch 23/50\n",
      "1000/1000 [==============================] - 46s - loss: 1.1371 - acc: 0.6260    \n",
      "Epoch 24/50\n",
      "1000/1000 [==============================] - 46s - loss: 1.1562 - acc: 0.6280    \n",
      "Epoch 25/50\n",
      "1000/1000 [==============================] - 47s - loss: 1.2055 - acc: 0.6150    \n",
      "Epoch 26/50\n",
      "1000/1000 [==============================] - 47s - loss: 1.1742 - acc: 0.6430    \n",
      "Epoch 27/50\n",
      "1000/1000 [==============================] - 46s - loss: 1.2278 - acc: 0.6230    \n",
      "Epoch 28/50\n",
      "1000/1000 [==============================] - 46s - loss: 1.0982 - acc: 0.6440    \n",
      "Epoch 29/50\n",
      "1000/1000 [==============================] - 46s - loss: 1.1467 - acc: 0.6270    \n",
      "Epoch 30/50\n",
      "1000/1000 [==============================] - 46s - loss: 1.2297 - acc: 0.6080    \n",
      "Epoch 31/50\n",
      "1001/1000 [==============================] - 46s - loss: 1.0089 - acc: 0.6783    \n",
      "Epoch 32/50\n",
      "1000/1000 [==============================] - 46s - loss: 0.7917 - acc: 0.7690    \n",
      "Epoch 33/50\n",
      "1000/1000 [==============================] - 77s - loss: 0.7915 - acc: 0.7550    \n",
      "Epoch 34/50\n",
      "1000/1000 [==============================] - 86s - loss: 0.7512 - acc: 0.7750    \n",
      "Epoch 35/50\n",
      "1000/1000 [==============================] - 89s - loss: 0.8074 - acc: 0.7530    \n",
      "Epoch 36/50\n",
      "1000/1000 [==============================] - 88s - loss: 0.7472 - acc: 0.7790    \n",
      "Epoch 37/50\n",
      "1000/1000 [==============================] - 88s - loss: 0.7478 - acc: 0.7730    \n",
      "Epoch 38/50\n",
      "1000/1000 [==============================] - 87s - loss: 0.8179 - acc: 0.7570    \n",
      "Epoch 39/50\n",
      "1000/1000 [==============================] - 86s - loss: 0.7681 - acc: 0.7530    \n",
      "Epoch 40/50\n",
      "1000/1000 [==============================] - 86s - loss: 0.8075 - acc: 0.7720    \n",
      "Epoch 41/50\n",
      "1001/1000 [==============================] - 86s - loss: 0.6732 - acc: 0.7952    \n",
      "Epoch 42/50\n",
      "1000/1000 [==============================] - 87s - loss: 0.4473 - acc: 0.8790    \n",
      "Epoch 43/50\n",
      "1000/1000 [==============================] - 84s - loss: 0.3685 - acc: 0.8870    \n",
      "Epoch 44/50\n",
      "1000/1000 [==============================] - 85s - loss: 0.4188 - acc: 0.8640    \n",
      "Epoch 45/50\n",
      "1000/1000 [==============================] - 85s - loss: 0.4203 - acc: 0.8790    \n",
      "Epoch 46/50\n",
      "1000/1000 [==============================] - 85s - loss: 0.4233 - acc: 0.8900    \n",
      "Epoch 47/50\n",
      "1000/1000 [==============================] - 85s - loss: 0.3847 - acc: 0.8890    \n",
      "Epoch 48/50\n",
      "1000/1000 [==============================] - 85s - loss: 0.4308 - acc: 0.8740    \n",
      "Epoch 49/50\n",
      "1000/1000 [==============================] - 85s - loss: 0.4334 - acc: 0.8680    \n",
      "Epoch 50/50\n",
      "1000/1000 [==============================] - 86s - loss: 0.3854 - acc: 0.8900    \n",
      "Test score: 0.330105990171\n",
      "Test accuracy: 0.9375\n"
     ]
    },
    {
     "name": "stderr",
     "output_type": "stream",
     "text": [
      "/usr/local/lib/python2.7/site-packages/keras/engine/training.py:1470: UserWarning: Epoch comprised more than `samples_per_epoch` samples, which might affect learning results. Set `samples_per_epoch` correctly to avoid this warning.\n",
      "  warnings.warn('Epoch comprised more than '\n"
     ]
    }
   ],
   "source": [
    "model.compile(loss='categorical_crossentropy',\n",
    "              optimizer='adadelta',\n",
    "              metrics=['accuracy'])\n",
    "model.summary()\n",
    "model.fit_generator(train_generator,samples_per_epoch=1000, nb_epoch=nb_epoch)\n",
    "score = model.evaluate_generator(train_generator, val_samples=10)\n",
    "print('Test score:', score[0])\n",
    "print('Test accuracy:', score[1])"
   ]
  }
 ],
 "metadata": {
  "kernelspec": {
   "display_name": "Python [default]",
   "language": "python",
   "name": "python2"
  },
  "language_info": {
   "codemirror_mode": {
    "name": "ipython",
    "version": 2
   },
   "file_extension": ".py",
   "mimetype": "text/x-python",
   "name": "python",
   "nbconvert_exporter": "python",
   "pygments_lexer": "ipython2",
   "version": "2.7.12"
  }
 },
 "nbformat": 4,
 "nbformat_minor": 0
}
